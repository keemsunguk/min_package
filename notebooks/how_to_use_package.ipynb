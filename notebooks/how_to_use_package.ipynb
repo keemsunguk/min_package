{
 "cells": [
  {
   "cell_type": "code",
   "execution_count": 1,
   "id": "03dd4fad-ba65-474f-9205-800e7b8dd2fe",
   "metadata": {},
   "outputs": [],
   "source": [
    "%load_ext autoreload\n",
    "%autoreload 2\n",
    "PROJ_HOME='/Users/skeem396/Projects/min_package/'\n",
    "import sys\n",
    "sys.path.append(PROJ_HOME)"
   ]
  },
  {
   "cell_type": "code",
   "execution_count": 2,
   "id": "8ddb973f-01f6-4d8d-83dc-7c0705b062fa",
   "metadata": {},
   "outputs": [],
   "source": [
    "from minpkg.utils import Demo"
   ]
  },
  {
   "cell_type": "code",
   "execution_count": 3,
   "id": "1517442e-f937-492e-9052-f1dff5ed1633",
   "metadata": {},
   "outputs": [],
   "source": [
    "demo = Demo('This is a test')  "
   ]
  },
  {
   "cell_type": "code",
   "execution_count": 4,
   "id": "a169e73b-2de2-448b-9960-7702089f642c",
   "metadata": {},
   "outputs": [
    {
     "name": "stderr",
     "output_type": "stream",
     "text": [
      "07/25/2022 04:57:40 PM | This is a test\n"
     ]
    }
   ],
   "source": [
    "demo.show_message()"
   ]
  },
  {
   "cell_type": "code",
   "execution_count": null,
   "id": "4e3504f0-9c83-4f36-9861-edf1fcbb6178",
   "metadata": {},
   "outputs": [],
   "source": []
  }
 ],
 "metadata": {
  "kernelspec": {
   "display_name": "Python 3 (ipykernel)",
   "language": "python",
   "name": "python3"
  },
  "language_info": {
   "codemirror_mode": {
    "name": "ipython",
    "version": 3
   },
   "file_extension": ".py",
   "mimetype": "text/x-python",
   "name": "python",
   "nbconvert_exporter": "python",
   "pygments_lexer": "ipython3",
   "version": "3.8.10"
  }
 },
 "nbformat": 4,
 "nbformat_minor": 5
}
